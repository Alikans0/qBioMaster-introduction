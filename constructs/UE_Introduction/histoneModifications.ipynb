{
 "cells": [
  {
   "cell_type": "markdown",
   "metadata": {},
   "source": [
    "# Histone modifications and Epigenetics construct\n",
    "\n",
    "## aims\n",
    "\n",
    "In this tutorial you will \n",
    "\n",
    "1. Read tutorials on histone modifications\n",
    "2. Answer questionnaire\n",
    "3. Further reading\n",
    "\n",
    "## credits\n",
    "\n",
    "Marcelo Nollmann, august 2021\n",
    "\n",
    "---"
   ]
  },
  {
   "cell_type": "markdown",
   "metadata": {},
   "source": [
    "### 1- Histone modifications and Epigenetics resources\n",
    "\n",
    "In this part, you should read a basic tutorial on Histone modifications and Epigenetics. There are standard sources that you can follow for this:\n",
    "\n",
    "- \n",
    "- "
   ]
  },
  {
   "cell_type": "markdown",
   "metadata": {},
   "source": [
    "### 2- Questionnaire\n",
    "\n",
    "Plase answer the following questions\n",
    "- "
   ]
  },
  {
   "cell_type": "markdown",
   "metadata": {},
   "source": [
    "### 3- Further reading\n",
    "\n",
    "\n",
    "- \n"
   ]
  }
 ],
 "metadata": {
  "kernelspec": {
   "display_name": "Python 3",
   "language": "python",
   "name": "python3"
  },
  "language_info": {
   "codemirror_mode": {
    "name": "ipython",
    "version": 3
   },
   "file_extension": ".py",
   "mimetype": "text/x-python",
   "name": "python",
   "nbconvert_exporter": "python",
   "pygments_lexer": "ipython3",
   "version": "3.7.10"
  }
 },
 "nbformat": 4,
 "nbformat_minor": 4
}
