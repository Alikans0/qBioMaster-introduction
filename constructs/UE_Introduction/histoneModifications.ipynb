{
 "cells": [
  {
   "cell_type": "markdown",
   "metadata": {},
   "source": [
    "# Histone modifications and Epigenetics construct\n",
    "\n",
    "## aims\n",
    "\n",
    "In this tutorial you will \n",
    "\n",
    "1. Read tutorials on histone modifications and epigenetics\n",
    "2. Answer questionnaire\n",
    "3. Further reading\n",
    "\n",
    "## credits\n",
    "\n",
    "Marcelo Nollmann, august 2021\n",
    "\n",
    "---"
   ]
  },
  {
   "cell_type": "markdown",
   "metadata": {},
   "source": [
    "### 1- Histone modifications and Epigenetics resources\n",
    "\n",
    "In this part, you should read a basic tutorial on Histone modifications and Epigenetics. There are standard sources that you can follow for this:\n",
    "\n",
    "- View this tutorial on [histone post-translational modifications](https://www.youtube.com/watch?v=XQ3P7Bq9ld0). This will teach you:\n",
    "    - the modifications that histones can display\n",
    "    - the roles in DNA condensation state (heterochromatin/euchromatin), in regulation of transcription (activation/ repression), etc \n",
    "- View this Lecture on [epigenetics (0-15 min)](https://www.youtube.com/watch?v=KtOnBUMuZiY) by David Allis."
   ]
  },
  {
   "cell_type": "markdown",
   "metadata": {},
   "source": [
    "### 2- Questionnaire\n",
    "\n",
    "Plase answer the following questions\n",
    "\n",
    "- What basic types of histone modifications exist?\n",
    "- What can be the consequences of these modifications?\n",
    "- Are these modifications reversible?\n"
   ]
  },
  {
   "cell_type": "markdown",
   "metadata": {},
   "source": [
    "### 3- Further reading\n",
    "\n",
    "\n",
    "- [Review on histone modifications and epigenetics](resources/histoneModifications_advanced.pdf)\n",
    "- Continue watching the [Lecture of D. Allis from 15'-end](https://www.youtube.com/watch?v=KtOnBUMuZiY) to learn about the consequences of histone modifications on disease and development.\n"
   ]
  }
 ],
 "metadata": {
  "kernelspec": {
   "display_name": "Python 3",
   "language": "python",
   "name": "python3"
  },
  "language_info": {
   "codemirror_mode": {
    "name": "ipython",
    "version": 3
   },
   "file_extension": ".py",
   "mimetype": "text/x-python",
   "name": "python",
   "nbconvert_exporter": "python",
   "pygments_lexer": "ipython3",
   "version": "3.7.10"
  }
 },
 "nbformat": 4,
 "nbformat_minor": 4
}
