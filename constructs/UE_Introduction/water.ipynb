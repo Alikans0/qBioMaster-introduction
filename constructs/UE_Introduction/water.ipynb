{
 "cells": [
  {
   "cell_type": "markdown",
   "metadata": {},
   "source": [
    "# Jupyter notebook example\n",
    "\n",
    "## What is your daily consumption of water?\n",
    "\n",
    "To be returned before *Wednesday 22/9 at 23:59*. \n",
    "\n",
    "This is your first homework. Although this is not going to be evaluated, try to do it carefully before the deadline (We are going to be strict about deadlines).\n",
    "\n",
    "We are going to look at it and commment together. It could look like a useless exercice, but we want you to apprehend the method and familiarise with writing short reports (in form of standard reports or jupyter notebook, etc etc).\n",
    "\n",
    "---\n",
    "\n",
    "Below we are going to guide you to quantify the amount of water (on average) that you consume each day.\n",
    "\n",
    "Complete the missing parts, using markdown cells for text and code for the analysis, and at the end discuss your results. Be careful! **You do not need to write much**. Actually, you should not. Write only the what is striclty necessary to follow your reasoning and the message you want to deliver.\n",
    "\n",
    "Also, let's keep it a personal assignement. You can of course help each other, but try to work individually to see if you understood.\n",
    "\n",
    "---"
   ]
  },
  {
   "cell_type": "markdown",
   "metadata": {},
   "source": [
    "### 1. Start by estimating how much water you use for a shower, brushing your teeth, flushing the toilet,... \n",
    "\n",
    "We have gathered a few values in the file [./data/home_water_consumption.csv](./data/home_water_consumption.csv), which is a Comma Separated Value file with two columns, one for the name of the category (for instance, 'shower') and the other for the amount of liters consumed per day per person in liters (for instance, '50').\n",
    "\n",
    "We can then import these data and see what they look like."
   ]
  },
  {
   "cell_type": "code",
   "execution_count": 38,
   "metadata": {},
   "outputs": [],
   "source": [
    "import csv ### import csv module in python"
   ]
  },
  {
   "cell_type": "code",
   "execution_count": 39,
   "metadata": {},
   "outputs": [
    {
     "name": "stdout",
     "output_type": "stream",
     "text": [
      "['shower', 'toilet', 'dish_washing']\n",
      "[50.0, 25.0, 3.0]\n"
     ]
    }
   ],
   "source": [
    "description = []\n",
    "consumption = []\n",
    "\n",
    "with open('./data/home_water_consumption.csv', newline='') as csvfile:\n",
    "    data = csv.reader(csvfile)\n",
    "    \n",
    "    # loop over rows\n",
    "    for row in data:\n",
    "\n",
    "        # add cell [0] to list of dates\n",
    "        description.append(row[0])\n",
    "\n",
    "        # add cell [1] to list of scores\n",
    "        consumption.append(float(row[1]))\n",
    "\n",
    "# output data\n",
    "print(description)\n",
    "print(consumption)"
   ]
  },
  {
   "cell_type": "markdown",
   "metadata": {},
   "source": [
    "You can first instance visualise the different categories with a histogram."
   ]
  },
  {
   "cell_type": "code",
   "execution_count": 40,
   "metadata": {},
   "outputs": [
    {
     "data": {
      "text/plain": [
       "Text(0.5, 0, 'category')"
      ]
     },
     "execution_count": 40,
     "metadata": {},
     "output_type": "execute_result"
    },
    {
     "data": {
      "image/png": "[encoded data removed]",
      "text/plain": [
       "<Figure size 432x288 with 1 Axes>"
      ]
     },
     "metadata": {
      "needs_background": "light"
     },
     "output_type": "display_data"
    }
   ],
   "source": [
    "import matplotlib.pyplot as plt ## matplotlib is a module for plotting in python\n",
    "import numpy as np\n",
    "\n",
    "\n",
    "x = np.arange(len(consumption))\n",
    "plt.bar(x, height=consumption)\n",
    "plt.xticks(x, description)\n",
    "plt.ylabel('water consumed [L]',fontsize=16)\n",
    "plt.xlabel('category',fontsize=16)"
   ]
  },
  {
   "cell_type": "markdown",
   "metadata": {},
   "source": [
    "You can print the sum..."
   ]
  },
  {
   "cell_type": "code",
   "execution_count": 41,
   "metadata": {},
   "outputs": [
    {
     "data": {
      "text/plain": [
       "78.0"
      ]
     },
     "execution_count": 41,
     "metadata": {},
     "output_type": "execute_result"
    }
   ],
   "source": [
    "np.sum(consumption)"
   ]
  },
  {
   "cell_type": "markdown",
   "metadata": {},
   "source": [
    "*What else can you add apart from what we already included?*\n",
    "\n",
    " \n",
    "\n",
    " \n",
    "When you think you have included all direct water consumption activities per day, you can pass to the next step.\n",
    "\n",
    "### 2. How does your total water daily usage compare with respect to other people? \n",
    "Look for the average European (and worldwide) per day consumption. Make plots and comment on that.\n",
    "\n",
    "Mining data, putting them in an useful format and analysing the outcome is something that you might be often doing in the future..."
   ]
  },
  {
   "cell_type": "code",
   "execution_count": null,
   "metadata": {},
   "outputs": [],
   "source": []
  },
  {
   "cell_type": "code",
   "execution_count": null,
   "metadata": {},
   "outputs": [],
   "source": []
  },
  {
   "cell_type": "markdown",
   "metadata": {},
   "source": [
    "Ok, is that it? \n",
    "\n",
    "### 3. What about cooking? How is your diet affecting the amount of water used in your lifestyle?\n",
    "\n",
    "Estimate the amount of water that was necessary to produce your *typical* meal and, if it was not done before, include that in your `consumption`.\n"
   ]
  },
  {
   "cell_type": "code",
   "execution_count": null,
   "metadata": {},
   "outputs": [],
   "source": []
  },
  {
   "cell_type": "markdown",
   "metadata": {},
   "source": [
    "### 4. Discussion. \n",
    "Comment your results. For instance, is your lifestyle sustainable worldwide?"
   ]
  },
  {
   "cell_type": "code",
   "execution_count": null,
   "metadata": {},
   "outputs": [],
   "source": []
  }
 ],
 "metadata": {
  "kernelspec": {
   "display_name": "Python 3",
   "language": "python",
   "name": "python3"
  },
  "language_info": {
   "codemirror_mode": {
    "name": "ipython",
    "version": 3
   },
   "file_extension": ".py",
   "mimetype": "text/x-python",
   "name": "python",
   "nbconvert_exporter": "python",
   "pygments_lexer": "ipython3",
   "version": "3.7.10"
  }
 },
 "nbformat": 4,
 "nbformat_minor": 4
}
