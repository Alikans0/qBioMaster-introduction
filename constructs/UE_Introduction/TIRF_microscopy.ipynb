{
 "cells": [
  {
   "cell_type": "markdown",
   "metadata": {},
   "source": [
    "# TIRFM microscopy construct\n",
    "\n",
    "## aims\n",
    "\n",
    "In this tutorial you will \n",
    "1. Read tutorials on TIRFM microscopy\n",
    "2. Answer questionnaire\n",
    "3. `Advanced` Run module on improvement on depth sectionning \n",
    "4. `Advanced` Run module on characterization of lateral and axial resolutions \n",
    "\n",
    "## warnings \n",
    "\n",
    "Make sure MPLBACKEND is not defined as `agg` otherwise you will see no graphical output!\n",
    "To make sure of this, run the following command before invoking `jupyter lab`:\n",
    "\n",
    "```sh\n",
    "export MPLBACKEND=\n",
    "```\n",
    "\n",
    "\n",
    "## credits\n",
    "\n",
    "Marcelo Nollmann, June 2021\n",
    "\n",
    "---"
   ]
  },
  {
   "cell_type": "markdown",
   "metadata": {},
   "source": [
    "### 1- TIRFM microscopy resources\n",
    "\n",
    "First, what does TIRFM stand for? Total Internal Reflection Fluorescence Microscopy\n",
    "In this part, you should read a basic tutorial on TIRF microscopy. There are standard sources that you can follow for this:\n",
    "\n",
    "- [Total Internal Reflection Fluorescence (TIRF) Microscopy](https://www.ncbi.nlm.nih.gov/pmc/articles/PMC4540339/)\n",
    "- [Nikon Microscopy U](https://www.microscopyu.com/techniques/fluorescence/total-internal-reflection-fluorescence-tirf-microscopy)\n",
    "- [Olympus tutorial](https://www.olympus-lifescience.com/en/microscope-resource/primer/techniques/confocal/applications/tirfmintro/)\n"
   ]
  },
  {
   "cell_type": "markdown",
   "metadata": {},
   "source": [
    "### 2- Questionnaire\n",
    "\n",
    "Plase answer the following questions\n",
    "- Explain why a TIRF microscope enables rejection of background light.\n",
    "- What determines the penetration depth?\n",
    "- What is the critical angle?\n",
    "- Can all objectives be used for TIRF microscopy modes? What is the critical parameter that you should be looking for?\n"
   ]
  },
  {
   "cell_type": "markdown",
   "metadata": {},
   "source": [
    "### 3- `Advanced` Calculate improvement on depth sectioning\n"
   ]
  },
  {
   "cell_type": "code",
   "execution_count": 3,
   "metadata": {},
   "outputs": [
    {
     "name": "stdout",
     "output_type": "stream",
     "text": [
      "Number of widefield planes read: 60\n",
      "Number of confocal planes read: 60\n"
     ]
    }
   ],
   "source": [
    "# Load widefield and confocal images of diffraction-limited spots\n",
    "\n",
    "from skimage import io\n",
    "import matplotlib.pyplot as plt\n",
    "import numpy as np\n",
    "\n",
    "def read_images():\n",
    "    \n",
    "    fileName_widefield = 'data/Image_sources_3D.tif'\n",
    "    data_widefield = io.imread(fileName).squeeze()\n",
    "    print(\"Number of widefield planes read: {}\".format(data_widefield.shape[0]))\n",
    "\n",
    "    fileName_TIRF = 'data/XXX.tif'\n",
    "    data_TIRF = io.imread(fileName).squeeze()\n",
    "    print(\"Number of confocal planes read: {}\".format(data_TIRF.shape[0]))\n",
    "\n",
    "    images = [data_widefield,data_confocal]\n",
    "    return images\n",
    "\n",
    "[image_widefield, image_TIRF] = read_images()\n",
    "\n",
    "# define ROI in 3D containing a diffraction-limited spot\n",
    "\n",
    "# Calculate the z-profile \n",
    "\n"
   ]
  },
  {
   "cell_type": "code",
   "execution_count": null,
   "metadata": {},
   "outputs": [],
   "source": [
    "# Load confocal image of diffraction-limited spots\n",
    "\n",
    "from skimage import io\n",
    "import matplotlib.pyplot as plt\n",
    "import numpy as np\n",
    "\n",
    "fileName = 'data/XXX'\n",
    "data = io.imread(fileName).squeeze()\n",
    "print(\"Number of planes read: {}\".format(data.shape[0]))\n",
    "\n",
    "# define ROI in 3D containing a diffraction-limited spot\n",
    "\n",
    "# Calculate the z-profile \n"
   ]
  },
  {
   "cell_type": "markdown",
   "metadata": {},
   "source": [
    "### 4- `Advanced` Calculate image resolution in 3D \n"
   ]
  },
  {
   "cell_type": "code",
   "execution_count": null,
   "metadata": {},
   "outputs": [],
   "source": [
    "# Load widefield and confocal images of diffraction-limited spots\n",
    "\n",
    "images = read_images()\n",
    "\n",
    "# define ROI in 3D containing a diffraction-limited spot\n",
    "\n",
    "# Calculate the x, y and z-profiles \n",
    "\n",
    "# Fit profiles to gaussian function to estimate resolution\n"
   ]
  },
  {
   "cell_type": "markdown",
   "metadata": {},
   "source": [
    "### 5- Further reading\n",
    "\n",
    "Now that you know everything about TIRFM microscopy, you can read on the following resources that will help you understand when and how TIRFM microscopy is used in real life!\n",
    "\n",
    "If you did not do the `Advanced` modules, please choose one of these papers and read in detail.\n",
    "\n",
    "- [Coupled, circumferential motions of the cell wall synthesis machinery and MreB filaments in B. subtilis](https://www-ncbi-nlm-nih-gov.insb.bib.cnrs.fr/pmc/articles/PMC3235694/)\n",
    "- [The mechanism of force transmission at bacterial focal adhesion complexes](https://www-ncbi-nlm-nih-gov.insb.bib.cnrs.fr/pmc/articles/PMC5465867/)\n",
    "- [Direct measurement of the evanescent field profile produced by objective-based total internal reflection fluorescence](https://www.spiedigitallibrary.org/journals/journal-of-biomedical-optics/volume-11/issue-01/014006/Direct-measurement-of-the-evanescent-field-profile-produced-by-objective/10.1117/1.2161018.full?SSO=1)\n",
    "- [ Three-dimensional total-internal reflection fluorescence nanoscopy with nanometric axial resolution by photometric localization of single molecules ](https://www.nature.com/articles/s41467-020-20863-0)\n",
    "\n"
   ]
  }
 ],
 "metadata": {
  "kernelspec": {
   "display_name": "Python 3",
   "language": "python",
   "name": "python3"
  },
  "language_info": {
   "codemirror_mode": {
    "name": "ipython",
    "version": 3
   },
   "file_extension": ".py",
   "mimetype": "text/x-python",
   "name": "python",
   "nbconvert_exporter": "python",
   "pygments_lexer": "ipython3",
   "version": "3.7.6"
  }
 },
 "nbformat": 4,
 "nbformat_minor": 4
}
