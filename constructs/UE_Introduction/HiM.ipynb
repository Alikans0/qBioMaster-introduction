{
 "cells": [
  {
   "cell_type": "markdown",
   "metadata": {},
   "source": [
    "# XXX construct\n",
    "\n",
    "## aims\n",
    "\n",
    "In this tutorial you will \n",
    "\n",
    "1. Read tutorials on xxx\n",
    "2. Answer questionnaire\n",
    "3. `Advanced` Run module xxx\n",
    "4. Further reading\n",
    "\n",
    "## warnings \n",
    "\n",
    "Make sure MPLBACKEND is not defined as `agg` otherwise you will see no graphical output!\n",
    "To make sure of this, run the following command before invoking `jupyter lab`:\n",
    "\n",
    "```sh\n",
    "export MPLBACKEND=\n",
    "```\n",
    "\n",
    "\n",
    "## credits\n",
    "\n",
    "Marcelo Nollmann, June 2021\n",
    "\n",
    "---"
   ]
  },
  {
   "cell_type": "markdown",
   "metadata": {},
   "source": [
    "### 1- xxx resources\n",
    "\n",
    "In this part, you should read a basic tutorial on xx. There are standard sources that you can follow for this:\n",
    "\n",
    "- \n",
    "- [RNA detection methods](https://www.youtube.com/watch?v=cIUhMfCzcJk) by Rob Singer\n"
   ]
  },
  {
   "cell_type": "markdown",
   "metadata": {},
   "source": [
    "### 2- Questionnaire\n",
    "\n",
    "Plase answer the following questions\n",
    "- "
   ]
  },
  {
   "cell_type": "markdown",
   "metadata": {},
   "source": [
    "### 3- `Advanced` ..."
   ]
  },
  {
   "cell_type": "code",
   "execution_count": 1,
   "metadata": {},
   "outputs": [],
   "source": [
    "# describe activity\n",
    "\n",
    "\n",
    "\n"
   ]
  },
  {
   "cell_type": "markdown",
   "metadata": {},
   "source": [
    "### 5- Further reading\n",
    "\n",
    "Now that you know everything about XXX, you can read on the following resources that will help you understand when and how XXX is used in real life!\n",
    "\n",
    "If you did not do the `Advanced` modules, please choose one of these papers and read in detail.\n",
    "\n",
    "- \n"
   ]
  }
 ],
 "metadata": {
  "kernelspec": {
   "display_name": "Python 3",
   "language": "python",
   "name": "python3"
  },
  "language_info": {
   "codemirror_mode": {
    "name": "ipython",
    "version": 3
   },
   "file_extension": ".py",
   "mimetype": "text/x-python",
   "name": "python",
   "nbconvert_exporter": "python",
   "pygments_lexer": "ipython3",
   "version": "3.7.10"
  }
 },
 "nbformat": 4,
 "nbformat_minor": 4
}
