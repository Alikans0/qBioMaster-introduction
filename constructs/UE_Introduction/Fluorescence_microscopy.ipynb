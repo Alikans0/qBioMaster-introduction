{
 "cells": [
  {
   "cell_type": "markdown",
   "metadata": {},
   "source": [
    "# Fluorescence microscopy construct\n",
    "\n",
    "## aims\n",
    "\n",
    "In this tutorial you will \n",
    "1. Read tutorials on fluorescence microscopy, introducing:\n",
    "    - the principles of fluorescence\n",
    "    - filters and dichroics\n",
    "    - fluorescence labeling methods\n",
    "    - widefield fluorescence microscopy\n",
    "2. Answer questionnaire\n",
    "3.  `advanced` Run module to calculate the profile of excitation from a widefield 3D image\n",
    "4.  `advanced` Run module to calculate 2D resolution for different wavelengths and calculate their dependence\n",
    "5. Further reading\n",
    "\n",
    "## warnings \n",
    "\n",
    "Make sure MPLBACKEND is not defined as `agg` otherwise you will see no graphical output!\n",
    "To make sure of this, run the following command before invoking `jupyter lab`:\n",
    "\n",
    "```sh\n",
    "export MPLBACKEND=\n",
    "```\n",
    "\n",
    "\n",
    "## credits\n",
    "\n",
    "Marcelo Nollmann, June 2021\n"
   ]
  },
  {
   "cell_type": "markdown",
   "metadata": {},
   "source": [
    "### 0 - Preliminary reading\n",
    "\n",
    "Make sure you are confortable with the following concepts, otherwise follow the link.\n",
    "\n",
    "- [The microscope optical train](https://www.microscopyu.com/microscopy-basics/components)\n",
    "- [Conjugate planes in optical microscopy](https://www.microscopyu.com/microscopy-basics/conjugate-planes-in-optical-microscopy)\n",
    "- [Field of view](https://www.microscopyu.com/microscopy-basics/field-of-view)\n"
    
   ]
  },
  {
   "cell_type": "markdown",
   "metadata": {},
   "source": [
    "### 1- Widefield microscopy resources\n",
    "\n",
    "In this part, you should read a basic tutorial on widefield microscopies. There are standard sources that you can follow for this:\n",
    "\n",
    "Essential material:\n",
    "- [Microscopy: Introduction to Fluorescence Microscopy (Nico Stuurman)](https://www.youtube.com/watch?v=AhzhOzgYoqw)\n",
    "- [Introduction to fluorescence (Dave Jameson)](https://www.youtube.com/watch?v=5PZbIQjqzlw&list=PLrTP91eqdDiIzVtpn5gsUKqVciNUhm-CP)\n",
    "- [Excitation and Barrier Filters in Fluorescent Microscopy](https://www.olympus-lifescience.com/en/microscope-resource/primer/java/fluorescence/opticalpaths/)\n",
    "- [The optical path of a widefield microscope](https://www.olympus-lifescience.com/en/microscope-resource/primer/java/microscopy/fluorescence/)\n",
    "\n",
    "Additional reading:\n",
    "- [Widefield versus confocal microscopy (Leica)](https://www.leica-microsystems.com/science-lab/introduction-to-widefield-microscopy/)\n"
   ]
  },
  {
   "cell_type": "markdown",
   "metadata": {},
   "source": [
    "### 2- Questionnaire\n",
    "\n",
    "Plase answer the following questions\n",
    "- Describe a Jablosky diagram\n",
    "- Why is the fluorescence emission wavelength always larger than the excitation wavelength? What is the Stokes shift?\n",
    "- Describe advantages of fluorescent proteins and dyes.\n",
    "- What is the maximum resolution attainable in a widefield microscope? Calculate in terms of NA and wavelength.\n",
    "- What light sources can be used to build a widefield microscope?\n",
    "- In widefield, when the light rays arrive at the objective back focal plane, they are parallel to the optical axis? Make a design of the light path.\n"
   ]
  },
  {
   "cell_type": "markdown",
   "metadata": {},
   "source": [
    "### 3- `Advanced` Calculate the profile of excitation from a widefield 3D image\n"
   ]
  },
  {
   "cell_type": "code",
   "execution_count": 2,
   "metadata": {},
   "outputs": [],
   "source": [
    "# Load widefield and confocal images of diffraction-limited spots\n",
    "\n",
    "from skimage import io\n",
    "import matplotlib.pyplot as plt\n",
    "import numpy as np\n",
    "\n",
    "def read_images(fileNames):\n",
    "   \n",
    "    images = [io.imread(x).squeeze() for x in fileNames]\n",
    "    print(\"Number of images loaded: {}\".format(len(fileNames)))\n",
    "\n",
    "    return images\n",
    "\n",
    "fileNames = ['data/Image_sources_2D_green.tif']\n",
    "fileNames.append('data/Image_sources_2D_blue.tif')\n",
    "fileNames.append('data/Image_sources_2D_red.tif')\n",
    "    \n",
    "images = read_images(fileNames)\n",
    "\n",
    "# define ROI in 3D containing a diffraction-limited spot\n",
    "\n",
    "# Calculate the z-profile \n",
    "\n"
   ]
  },
  {
   "cell_type": "markdown",
   "metadata": {},
   "source": [
    "### 4- `Advanced` Calculate 2D resolution for different wavelengths and calculate their dependence\n"
   ]
  },
  {
   "cell_type": "code",
   "execution_count": null,
   "metadata": {},
   "outputs": [],
   "source": [
    "# Load widefield images of diffraction-limited spots\n",
    "\n",
    "images = read_images()\n",
    "\n",
    "# define ROI containing a diffraction-limited spot\n",
    "\n",
    "# Calculate the x and y profiles for each wavelength\n",
    "\n",
    "# Plot resolution as a function of wavelength\n",
    "\n",
    "# Fit curve\n"
   ]
  },
  {
   "cell_type": "markdown",
   "metadata": {},
   "source": [
    "### 5- More resources\n",
    "\n",
    "Now that you know everything about widelfield microscopy, you can read on the following resources that will help you understand when and how widelfield microscopy is used in real life!\n",
    "\n",
    "If you did not do the `Advanced` modules, please choose one of these resouces and read it in detail.\n",
    "\n",
    "- [Activity: build a foldscope!](https://explorebiology.org/activities/summary/foldscope)\n",
    "- [Motility in a Test Tube](https://explorebiology.org/summary/cell-biology/motility-in-a-test-tube)\n",
    "- [GFP expression](https://explorebiology.org/summary/cell-biology/lighting-up-biology---expression-of-the-green-fluorescence-protein)\n",
    "\n",
    "Advanced content:\n",
    "- [All you ever wanted to know about GFP (by Roger Tsien)](https://www.youtube.com/watch?v=QoRTv2qZXbY)\n",
    "- [Uses of organic probes for fluorescence microscopy](https://www.youtube.com/watch?v=gSGq8gOLXwY)\n",
    "- [Cameras and detectors by Nico Stuurman](https://www.youtube.com/watch?v=8WpCov8iYCU)\n",
    "\n",
    "Jupyter Labs:\n",
    "\n",
    "- [Image formation tutorial](Microscope_image_formation.ipynb):\n",
    "    - Simulating images of beads\n",
    "    - Simulating a theoretical point spread function (PSF)\n",
    "    - Convoluting the object with the microscope PSF\n"
   ]
  }
 ],
 "metadata": {
  "kernelspec": {
   "display_name": "Python 3",
   "language": "python",
   "name": "python3"
  },
  "language_info": {
   "codemirror_mode": {
    "name": "ipython",
    "version": 3
   },
   "file_extension": ".py",
   "mimetype": "text/x-python",
   "name": "python",
   "nbconvert_exporter": "python",
   "pygments_lexer": "ipython3",
   "version": "3.7.10"
  }
 },
 "nbformat": 4,
 "nbformat_minor": 4
}
