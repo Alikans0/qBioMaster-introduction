{
 "cells": [
  {
   "cell_type": "markdown",
   "metadata": {},
   "source": [
    "# DNA basics construct\n",
    "\n",
    "## aims\n",
    "\n",
    "In this tutorial you will \n",
    "\n",
    "1. Read tutorials on DNA. You will learn:\n",
    "- what is DNA?\n",
    "- the history of the discovery of DNA structure\n",
    "- How is DNA replicated?\n",
    "- The DNA code\n",
    "- Multi-scale chromosome organization: from nucleosomes to territories\n",
    "2. Answer questionnaire\n",
    "3. Further reading\n",
    "\n",
    "## credits\n",
    "\n",
    "Marcelo Nollmann, June 2021\n",
    "\n",
    "---"
   ]
  },
  {
   "cell_type": "markdown",
   "metadata": {},
   "source": [
    "### 1- DNA structure resources\n",
    "\n",
    "In this part, you should read this fantastic resource on DNA written by Ron Vale: [The structure of DNA](https://explorebiology.org/summary/genetics/the-structure-of-dna)\n",
    "\n",
    "This resource will describe:\n",
    "- what is DNA?\n",
    "- the history of the discovery of DNA structure\n",
    "- How is DNA replicated?\n",
    "- The DNA code\n",
    " "
   ]
  },
  {
   "cell_type": "markdown",
   "metadata": {},
   "source": [
    "### 2- Questionnaire\n",
    "\n",
    "Please answer the following questions\n",
    "- What did Jim Watson and Francis Crick do?\n",
    "- Does the homo base-pairing model of DNA provide a solution for how a gene might be replicated?\n",
    "- What protein is in charge of copying DNA? Are both strands copied at the same time?\n",
    "- What molecular interactions hold the two strands of the DNA double helix together?\n",
    "- Write out a complementary DNA strand to the one below (including which end is 5´ and which end is 3´): 5´- ATTTCCAGCGGAAAGGCGCGAACCTGG-3´\n"
   ]
  },
  {
   "cell_type": "markdown",
   "metadata": {},
   "source": [
    "### 3- Further reading\n",
    "\n",
    "Now that you know everything about DNA, you can read on the following resources.\n",
    "\n",
    "1. If you want to know more about \n",
    "    - DNA nanotechnology\n",
    "    - DNA origami\n",
    " please follow the `Frontiers` section of [The structure of DNA, by Ron Vale](https://explorebiology.org/summary/genetics/the-structure-of-dna).\n",
    " \n",
    "\n",
    "2. [Presentation on multi-scale chromosome organization](resources/introduction_quantitative_biology_lecture_dna-basics.pdf) by M. Nollmann.\n",
    "\n",
    "3. To learn more about other layers of chromosome organization in bacteria and eukaryotes, and the latest methods used, follow:\n",
    "    - [Chromosome organization in bacteria](resources/chromosome_organization_bacteria.pdf) a review from Remus Dame.\n",
    "    - [Chromosome structure in eukaryotes and methods](resources/Chromosome_structure_methods.pdf) a review by Giacomo Cavalli. This review describes briefly the multi-scale structure of eukaryotic chromosomes and then describes the most current methods to study it, including:\n",
    "        - sequencing based-methods, described in the [Loading and visualizing a Hi-C matrix](constructs/UE_Introduction/higher-order_chromatin_structure.ipynb) construct.\n",
    "        - imaging based methods: super-resolution, described in previous lectures.\n",
    "        - multiplexed imaging methods, described in [Multiplexing imaging methods](constructs/UE_Introduction/HiM.ipynb) construct."
   ]
  }
 ],
 "metadata": {
  "kernelspec": {
   "display_name": "Python 3",
   "language": "python",
   "name": "python3"
  },
  "language_info": {
   "codemirror_mode": {
    "name": "ipython",
    "version": 3
   },
   "file_extension": ".py",
   "mimetype": "text/x-python",
   "name": "python",
   "nbconvert_exporter": "python",
   "pygments_lexer": "ipython3",
   "version": "3.7.10"
  }
 },
 "nbformat": 4,
 "nbformat_minor": 4
}
