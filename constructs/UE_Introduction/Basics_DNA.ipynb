{
 "cells": [
  {
   "cell_type": "markdown",
   "metadata": {},
   "source": [
    "# DNA basics construct\n",
    "\n",
    "## aims\n",
    "\n",
    "In this tutorial you will \n",
    "\n",
    "1. Read tutorials on DNA. You will learn:\n",
    "- what is DNA?\n",
    "- the history of the discovery of DNA structure\n",
    "- How is DNA replicated?\n",
    "- The DNA code\n",
    "2. Answer questionnaire\n",
    "3. `Advanced` Run module xxx\n",
    "4. Further reading\n",
    "\n",
    "## warnings \n",
    "\n",
    "Make sure MPLBACKEND is not defined as `agg` otherwise you will see no graphical output!\n",
    "To make sure of this, run the following command before invoking `jupyter lab`:\n",
    "\n",
    "```sh\n",
    "export MPLBACKEND=\n",
    "```\n",
    "\n",
    "\n",
    "## credits\n",
    "\n",
    "Marcelo Nollmann, June 2021\n",
    "\n",
    "---"
   ]
  },
  {
   "cell_type": "markdown",
   "metadata": {},
   "source": [
    "### 1- DNA structure resources\n",
    "\n",
    "In this part, you should read this fantastic resource on DNA written by Ron Vale: [The structure of DNA](https://explorebiology.org/summary/genetics/the-structure-of-dna)\n",
    "\n",
    "This resource will describe:\n",
    "- what is DNA?\n",
    "- the history of the discovery of DNA structure\n",
    "- How is DNA replicated?\n",
    "- The DNA code\n",
    " "
   ]
  },
  {
   "cell_type": "markdown",
   "metadata": {},
   "source": [
    "### 2- Questionnaire\n",
    "\n",
    "Please answer the following questions\n",
    "- What did Jim Watson and Francis Crick do?\n",
    "- Does the homo base-pairing model of DNA provide a solution for how a gene might be replicated?\n",
    "- What protein is in charge of copying DNA? Are both strands copied at the same time?\n",
    "- What molecular interactions hold the two strands of the DNA double helix together?\n",
    "- Write out a complementary DNA strand to the one below (including which end is 5´ and which end is 3´): 5´- ATTTCCAGCGGAAAGGCGCGAACCTGG-3´\n"
   ]
  },
  {
   "cell_type": "markdown",
   "metadata": {},
   "source": [
    "### 3- `Advanced` ..."
   ]
  },
  {
   "cell_type": "code",
   "execution_count": 1,
   "metadata": {},
   "outputs": [],
   "source": [
    "# describe activity\n",
    "\n",
    "\n",
    "\n"
   ]
  },
  {
   "cell_type": "markdown",
   "metadata": {},
   "source": [
    "### 5- Further reading\n",
    "\n",
    "Now that you know everything about DNA, you can read on the following resources.\n",
    "\n",
    "- Follow the `Frontiers` section of [The structure of DNA, by Ron Vale](https://explorebiology.org/summary/genetics/the-structure-of-dna). You will learn about:\n",
    "    - DNA nanotechnology\n",
    "    - DNA origami\n",
    "\n"
   ]
  }
 ],
 "metadata": {
  "kernelspec": {
   "display_name": "Python 3",
   "language": "python",
   "name": "python3"
  },
  "language_info": {
   "codemirror_mode": {
    "name": "ipython",
    "version": 3
   },
   "file_extension": ".py",
   "mimetype": "text/x-python",
   "name": "python",
   "nbconvert_exporter": "python",
   "pygments_lexer": "ipython3",
   "version": "3.7.6"
  }
 },
 "nbformat": 4,
 "nbformat_minor": 4
}
