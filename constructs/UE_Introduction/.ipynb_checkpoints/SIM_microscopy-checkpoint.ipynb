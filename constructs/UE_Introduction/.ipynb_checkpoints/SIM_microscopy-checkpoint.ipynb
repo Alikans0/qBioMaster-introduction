{
 "cells": [
  {
   "cell_type": "markdown",
   "metadata": {},
   "source": [
    "# Structural Illumination Microscopy construct\n",
    "\n",
    "## aims\n",
    "\n",
    "In this tutorial you will \n",
    "1. Read tutorials on SIM microscopy\n",
    "2. Answer questionnaire\n",
    "3.  `advanced` Run module to calculate the resolution gain by SIM in the Fourier space\n",
    "4. Further reading\n",
    "\n",
    "## warnings \n",
    "\n",
    "Make sure MPLBACKEND is not defined as `agg` otherwise you will see no graphical output!\n",
    "To make sure of this, run the following command before invoking `jupyter lab`:\n",
    "\n",
    "```sh\n",
    "export MPLBACKEND=\n",
    "```\n",
    "\n",
    "\n",
    "## credits\n",
    "\n",
    "Marcelo Nollmann, June 2021\n"
   ]
  },
  {
   "cell_type": "markdown",
   "metadata": {},
   "source": [
    "### 1- SIM microscopy resources\n",
    "\n",
    "In this part, you should read a basic tutorial on SIm microscopies. There are standard sources that you can follow for this:\n",
    "\n",
    "- [David Agard's video on SIM](https://www.youtube.com/watch?v=i73HhpLJrqs)\n",
    "- [Structured Illumination Microscopy review](resources/3DSIM_review.pdf)\n"
   ]
  },
  {
   "cell_type": "markdown",
   "metadata": {},
   "source": [
    "### 2- Questionnaire\n",
    "\n",
    "Plase answer the following questions\n",
    "- What is the resolution gain in 3D-SIM?\n",
    "- Is the same resolution gained in all dimensions?\n",
    "- Does 3D-SIM require the use of standard fluorophors? Are specific photophysical properties required?\n"
   ]
  },
  {
   "cell_type": "markdown",
   "metadata": {},
   "source": [
    "### 3- `Advanced` Calculate the resolution gain by SIM in the Fourier space\n"
   ]
  },
  {
   "cell_type": "code",
   "execution_count": 1,
   "metadata": {},
   "outputs": [],
   "source": [
    "# Load widefield and confocal images of diffraction-limited spots\n",
    "\n",
    "from skimage import io\n",
    "import matplotlib.pyplot as plt\n",
    "import numpy as np\n",
    "\n",
    "def read_images(fileNames):\n",
    "   \n",
    "    images = [io.imread(x).squeeze() for x in fileNames]\n",
    "    print(\"Number of images loaded: {}\".format(len(fileNames)))\n",
    "\n",
    "    return images\n",
    "\n",
    "fileNames = ['data/Image_sources_3D.tif']\n",
    "fileNames.append('data/Image_SIM.tif')\n",
    "\n",
    "## images = read_images(fileNames)\n",
    "\n",
    "# define ROI in 3D containing a diffraction-limited spot\n",
    "\n",
    "# Calculate the x-, y- and z-profiles of widefield and SIM images and compare\n",
    "\n",
    "# Calculate the Fourier transform of the images\n",
    "\n",
    "# Plot Fourier transforms in XY and XZ for both images and compare\n",
    "\n",
    "# Draw profile of Fourier transform in x/y and in z and calculate the cutoff frequencies.\n",
    "\n",
    "# Calculate the Fourier Ring correlations using the tttrlib package:\n",
    "# https://tttrlib.readthedocs.io/en/latest/auto_examples/imaging/plot_imaging_frc.html\n"
   ]
  },
  {
   "cell_type": "markdown",
   "metadata": {},
   "source": [
    "### 5- More resources\n",
    "\n",
    "Now that you know everything about SIM microscopy, you can read on the following resources that will help you understand when and how SIM microscopy is used in real life!\n",
    "\n",
    "If you did not do the `Advanced` modules, please choose one of these resouces and read it in detail.\n",
    "\n",
    "- [Issue with recent applications of 3D-SIM](resources/3DSIM_review2.pdf)\n",
    "- [Recruitment, Assembly, and Molecular Architecture of the SpoIIIE DNA Pump Revealed by Superresolution Microscopy](https://journals.plos.org/plosbiology/article?id=10.1371/journal.pbio.1001557)\n",
    "- [TADs are 3D structural units of higher-order chromosome organization in Drosophila](https://advances.sciencemag.org/content/4/2/eaar8082)\n",
    "\n"
   ]
  }
 ],
 "metadata": {
  "kernelspec": {
   "display_name": "Python 3",
   "language": "python",
   "name": "python3"
  },
  "language_info": {
   "codemirror_mode": {
    "name": "ipython",
    "version": 3
   },
   "file_extension": ".py",
   "mimetype": "text/x-python",
   "name": "python",
   "nbconvert_exporter": "python",
   "pygments_lexer": "ipython3",
   "version": "3.7.10"
  }
 },
 "nbformat": 4,
 "nbformat_minor": 4
}
