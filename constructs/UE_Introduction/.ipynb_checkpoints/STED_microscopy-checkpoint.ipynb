{
 "cells": [
  {
   "cell_type": "markdown",
   "metadata": {},
   "source": [
    "# Stimulated Emission Depletion Microscopy (STED) construct\n",
    "\n",
    "## aims\n",
    "\n",
    "In this tutorial you will \n",
    "1. Read tutorials on STED microscopy\n",
    "2. Answer questionnaire\n",
    "\n",
    "\n",
    "\n",
    "## credits\n",
    "\n",
    "Marcelo Nollmann, June 2021\n"
   ]
  },
  {
   "cell_type": "markdown",
   "metadata": {},
   "source": [
    "### 1- STED microscopy resources\n",
    "\n",
    "In this part, you should read a basic tutorial on STED microscopies. There are standard sources that you can follow for this:\n",
    "\n",
    "- [STED microscopy course by Stephan Hell](https://www.youtube.com/watch?v=w2Qo__sppcI)\n",
    "\n"
   ]
  },
  {
   "cell_type": "markdown",
   "metadata": {},
   "source": [
    "### 2- Questionnaire\n",
    "\n",
    "Plase answer the following questions\n",
    "- What is stimulated emission?\n",
    "- Why do we talk about 'stimulated emission' depletion?\n",
    "- What is the limit of resolution increase with STED?\n",
    "- Does STED increase resolution in the axial direction?\n"
   ]
  }
 ],
 "metadata": {
  "kernelspec": {
   "display_name": "Python 3",
   "language": "python",
   "name": "python3"
  },
  "language_info": {
   "codemirror_mode": {
    "name": "ipython",
    "version": 3
   },
   "file_extension": ".py",
   "mimetype": "text/x-python",
   "name": "python",
   "nbconvert_exporter": "python",
   "pygments_lexer": "ipython3",
   "version": "3.7.10"
  }
 },
 "nbformat": 4,
 "nbformat_minor": 4
}
