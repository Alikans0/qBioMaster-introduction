{
 "cells": [
  {
   "cell_type": "markdown",
   "metadata": {},
   "source": [
    "# Machines acting on DNA construct\n",
    "\n",
    "## aims\n",
    "\n",
    "In this tutorial you will \n",
    "\n",
    "1. Read tutorials on DNA motors, particularly the RNA polymerase and chromatin modifiers\n",
    "2. Answer questionnaire\n",
    "3. Further reading\n",
    "\n",
    "## credits\n",
    "\n",
    "Marcelo Nollmann, august 2021\n",
    "\n",
    "---"
   ]
  },
  {
   "cell_type": "markdown",
   "metadata": {},
   "source": [
    "### 0- Preliminary reading\n",
    "\n",
    "If you don't know what a molecular motor is, then you should watch the [lecture of Ron Vale](https://www.youtube.com/watch?v=9RUHJhskW00).\n",
    "\n",
    "If you want to be reminded about the basics of trancription, you can watch this nice resource from [Khan Academy](https://www.youtube.com/watch?v=JQIwwJqF5D0).\n",
    "\n",
    "### 1- Machines acting on DNA\n",
    "\n",
    "In this part, you should read a basic tutorial on chromatin modifiers. There are standard sources that you can follow for this:\n",
    "\n",
    "- Read the article: [Single-molecule studies of RNA polymerase: One singular sensation, every little step it takes](https://www.ncbi.nlm.nih.gov/pmc/articles/PMC3056354/pdf/nihms268779.pdf). You will learn:\n",
    "    - how single-molecule manipulation can be used to understand the mechanism of transcription\n",
    "    - pauses in translocation and possible biological impact.\n",
    "    - loads and roadblocks to transcription\n",
    "    \n",
    "- Read the review: [Mechanisms and Functions of ATP-Dependent Chromatin-Remodeling Enzymes](https://www.cell.com/fulltext/S0092-8674(13)00882-9). You will learn about:\n",
    "    - types of chromatin remodeling enzymes\n",
    "    - mechanisms for regulation of the translocase function\n",
    "    - roles in chromatin organization, epigenetics, and disease.\n",
    "\n"
   ]
  },
  {
   "cell_type": "markdown",
   "metadata": {},
   "source": [
    "### 2- Questionnaire\n",
    "\n",
    "Plase answer the following questions\n",
    "- What is the energy source of RNA pol 2?\n",
    "- What is meant by 'proofreading activity'?\n",
    "- What are the roles of pausing polymerases?\n",
    "- How can one stop the translocation of RNA pol 2 / remodeling factors?\n",
    "- By what mechanism can misfunctions of chromatin remodelers affect chromatin organization?"
   ]
  },
  {
   "cell_type": "markdown",
   "metadata": {},
   "source": [
    "### 3- Further reading\n",
    "\n",
    "\n",
    "- [Structure and mechanism of RNA polymerase 2](https://www.youtube.com/watch?v=m5DlLrA0ZZo).\n",
    "- [DNA Translocation and Loop Formation Mechanism of Chromatin Remodeling by SWI/SNF and RSC by optical tweezers](https://www.sciencedirect.com/science/article/pii/S1097276506007313/pdfft?md5=b15e57b1f8f5b7237a916ea118dde141&pid=1-s2.0-S1097276506007313-main.pdf)\n"
   ]
  }
 ],
 "metadata": {
  "kernelspec": {
   "display_name": "Python 3",
   "language": "python",
   "name": "python3"
  },
  "language_info": {
   "codemirror_mode": {
    "name": "ipython",
    "version": 3
   },
   "file_extension": ".py",
   "mimetype": "text/x-python",
   "name": "python",
   "nbconvert_exporter": "python",
   "pygments_lexer": "ipython3",
   "version": "3.7.10"
  }
 },
 "nbformat": 4,
 "nbformat_minor": 4
}
