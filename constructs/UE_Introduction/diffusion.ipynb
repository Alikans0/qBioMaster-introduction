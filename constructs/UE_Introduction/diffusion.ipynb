{
 "cells": [
  {
   "cell_type": "markdown",
   "metadata": {},
   "source": [
    "# Diffusion and Random Walks\n",
    "\n",
    "*23rd September 2021* - **Credits:** Luca Ciandrini (luca.ciandrini@umontpellier.fr)\n",
    "\n",
    "---\n",
    "From the Feynamn's Lectures on Physics, Vol I Ch.6:\n",
    ">... imagine a “game” in which a “player” starts at the point x=0 and at each “move” is required to take a step either forward (toward +x) or backward (toward −x). The choice is to be made randomly, determined, for example, by the toss of a coin. How shall we describe the resulting motion? In its general form the problem is related to the motion of atoms (or other particles) in a gas—called Brownian motion—and also to the combination of errors in measurements.\n",
    "\n",
    "Let's try to implement that.\n",
    "\n",
    "## Random Walks in 1D\n",
    "For the sake of simplicity let's say that the displacements can be $a = \\pm 1$. And let's see how the distance from the starting point evolves in time (and after $N = t/\\Delta t$ total steps). Also, to start with, $k_l=k_r$."
   ]
  },
  {
   "cell_type": "code",
   "execution_count": null,
   "metadata": {},
   "outputs": [],
   "source": [
    "from random import random\n",
    "import numpy as np\n",
    "import matplotlib.pyplot as plt\n",
    "\n",
    "k_r = k_l = 1  ## define the hopping rates for left (l) and right (r)\n",
    "a = 1          ## the absolute value of displacement\n",
    "delta_t = 0.01 ## the time step\n",
    "\n",
    "t_max = 100.   ## Maximal time\n",
    "\n",
    "t = 0.         ## initial conditions\n",
    "x = 0.\n",
    "\n",
    "T = []\n",
    "T.append(t)\n",
    "X = []\n",
    "X.append(x)"
   ]
  },
  {
   "cell_type": "code",
   "execution_count": null,
   "metadata": {},
   "outputs": [],
   "source": [
    "## 1D random walk\n",
    "def step_1D_RW(rate_left, rate_right, delta):\n",
    "    \n",
    "    step_x = 0\n",
    "    \n",
    "    prob_left = rate_left*delta\n",
    "    prob_right = rate_right*delta\n",
    "    \n",
    "    ran = random()\n",
    "    \n",
    "    if ran <= prob_left:\n",
    "            # step on the left\n",
    "            step_x = -1\n",
    "            \n",
    "    if ran > prob_left and ran <= prob_left + prob_right :\n",
    "            # step on the right\n",
    "            step_x = +1\n",
    "    \n",
    "    return step_x"
   ]
  },
  {
   "cell_type": "code",
   "execution_count": null,
   "metadata": {},
   "outputs": [],
   "source": [
    "## Make the simulation till t_max\n",
    "while(t<t_max):\n",
    "    x += a*step_1D_RW(k_l,k_r,delta_t)\n",
    "    t += delta_t\n",
    "    \n",
    "    T.append(t)\n",
    "    X.append(x)"
   ]
  },
  {
   "cell_type": "code",
   "execution_count": null,
   "metadata": {},
   "outputs": [],
   "source": [
    "plt.plot(T,X)\n",
    "plt.xlabel('time [au]', fontsize='14')\n",
    "plt.ylabel('position $x$ [au]', fontsize='14')"
   ]
  },
  {
   "cell_type": "code",
   "execution_count": null,
   "metadata": {},
   "outputs": [],
   "source": [
    "N_realisation = 1000\n",
    "\n",
    "T_realisation = []\n",
    "X_realisation = []\n",
    "\n",
    "for i in range(0,N_realisation):\n",
    "    \n",
    "    t = 0.         ## initial conditions\n",
    "    x = 0.\n",
    "\n",
    "    T = []\n",
    "    T.append(t)\n",
    "    X = []\n",
    "    X.append(x)\n",
    "    \n",
    "    ## Start one realisation\n",
    "    while(t<t_max):\n",
    "        x += a*step_1D_RW(k_l,k_r,delta_t)\n",
    "        t += delta_t\n",
    "    \n",
    "        T.append(t)\n",
    "        X.append(x)\n",
    "    ## End\n",
    "    \n",
    "    T_realisation.append(T)\n",
    "    X_realisation.append(X)"
   ]
  },
  {
   "cell_type": "code",
   "execution_count": null,
   "metadata": {},
   "outputs": [],
   "source": []
  },
  {
   "cell_type": "code",
   "execution_count": null,
   "metadata": {},
   "outputs": [],
   "source": [
    "for i in range(0,N_realisation):\n",
    "    plt.plot(T_realisation[i],X_realisation[i]) \n",
    "    \n",
    "\n",
    "plt.xlabel('time [au]', fontsize='14')\n",
    "plt.ylabel('position $x$ [au]', fontsize='14')\n",
    "\n",
    "title = str(N_realisation) + ' realisations'\n",
    "plt.title(title)\n",
    "plt.show()"
   ]
  },
  {
   "cell_type": "code",
   "execution_count": null,
   "metadata": {},
   "outputs": [],
   "source": [
    "# Compute average and standard deviation as a function of time\n",
    "sum_x  = np.empty(len(T_realisation[0]))\n",
    "sum_x2 = np.empty(len(T_realisation[0]))\n",
    "\n",
    "n=1\n",
    "for X_one,T_one in zip(X_realisation, T_realisation):\n",
    "\n",
    "    t = 0\n",
    "    for x_individual, t_individual in zip(X_one,T_one):\n",
    "        sum_x[t] += x_individual\n",
    "        sum_x2[t] += x_individual*x_individual\n",
    "        \n",
    "        t += 1\n",
    "    \n",
    "mean_x = np.divide(sum_x, N_realisation)\n",
    "var_x = np.divide(sum_x2, N_realisation)\n",
    "    \n",
    "     \n",
    "    \n",
    "    "
   ]
  },
  {
   "cell_type": "code",
   "execution_count": null,
   "metadata": {},
   "outputs": [],
   "source": [
    "plt.plot(T_realisation[0], mean_x, 'o')\n",
    "plt.plot([0,100], [0,0],'--', color='gray')"
   ]
  },
  {
   "cell_type": "code",
   "execution_count": null,
   "metadata": {
    "scrolled": true
   },
   "outputs": [],
   "source": [
    "for i in range(0,N_realisation):\n",
    "    plt.plot(T_realisation[i],X_realisation[i]) \n",
    "    \n",
    "\n",
    "plt.xlabel('time [au]', fontsize='14')\n",
    "plt.ylabel('position $x$ [au]', fontsize='14')\n",
    "\n",
    "title = str(N_realisation) + ' realisations'\n",
    "\n",
    "#plt.plot([0,100], [0,0],'--', color='black', lw=6)\n",
    "plt.plot(T_realisation[0], mean_x, 'o', ms=2, color = 'black')\n",
    "\n",
    "plt.title(title)\n",
    "plt.show()"
   ]
  },
  {
   "cell_type": "code",
   "execution_count": null,
   "metadata": {},
   "outputs": [],
   "source": [
    "plt.plot(T_realisation[0], var_x)\n",
    "\n",
    "t_th = np.arange(0,100)\n",
    "var_th = 2*a*a*k_l*t_th\n",
    "plt.plot(t_th, var_th,'--', color='gray')\n"
   ]
  },
  {
   "cell_type": "code",
   "execution_count": null,
   "metadata": {},
   "outputs": [],
   "source": [
    "    "
   ]
  },
  {
   "cell_type": "code",
   "execution_count": null,
   "metadata": {},
   "outputs": [],
   "source": [
    "    "
   ]
  },
  {
   "cell_type": "code",
   "execution_count": null,
   "metadata": {},
   "outputs": [],
   "source": []
  },
  {
   "cell_type": "code",
   "execution_count": null,
   "metadata": {},
   "outputs": [],
   "source": []
  },
  {
   "cell_type": "code",
   "execution_count": null,
   "metadata": {},
   "outputs": [],
   "source": []
  }
 ],
 "metadata": {
  "kernelspec": {
   "display_name": "Python 3",
   "language": "python",
   "name": "python3"
  },
  "language_info": {
   "codemirror_mode": {
    "name": "ipython",
    "version": 3
   },
   "file_extension": ".py",
   "mimetype": "text/x-python",
   "name": "python",
   "nbconvert_exporter": "python",
   "pygments_lexer": "ipython3",
   "version": "3.8.1"
  }
 },
 "nbformat": 4,
 "nbformat_minor": 4
}
