{
 "cells": [
  {
   "cell_type": "markdown",
   "metadata": {},
   "source": [
    "# Modelling toolbox: ODE\n",
    "\n",
    "*21st September 2021* - **Credits:** Luca Ciandrini (luca.ciandrini@umontpellier.fr)\n",
    "\n",
    "---\n",
    "Last week we introduced Ordinary Differential Equations (ODE):\n",
    "$$\n",
    "\\frac{d}{dt} \\mathbf{x}(t) = \\mathbf{f}(\\mathbf{x}(t)) \\,\n",
    "$$\n",
    "and we guessed the solution of a few simple examples. Then we tackled a problem that it cannot be studied with deterministic approaches because of its intrinsic stochastic properties: the partition problem. We looked at the *fluctuations* in the partition of $N$ molecules from a mother in the two daughter cells, and we related that result to experimental outcomes.\n",
    "\n",
    "After reading [Wil] D.J. Wilkinson, *Stochastic modelling for quantitative description of heterogeneous biological systems*, Nature Reviews (2009) [doi:10.1038/nrg2509](doi:10.1038/nrg2509):\n",
    "- Discuss deteministic *vs* stochastic model;\n",
    "- Name a few approaches and explain them;\n",
    "---"
   ]
  },
  {
   "cell_type": "markdown",
   "metadata": {},
   "source": [
    "## Step 1. Guess an analytical solution\n",
    "\n",
    "Let's start with the example from [Wil]:\n",
    "$$\n",
    "\\frac{d X}{dt} = \\alpha - \\mu X \\,.\n",
    "$$\n",
    "\n",
    "How can you solve it analytically?\n",
    "...\n",
    "<p>&nbsp;</p>\n",
    "<p>&nbsp;</p>\n",
    "<p>&nbsp;</p>\n",
    "\n",
    "You should find \n",
    "$$\n",
    "X(t) = \\frac{\\alpha}{\\mu}(1-e^{-\\mu t}) \\,.\n",
    "$$\n",
    "What can you say about that?\n",
    "...\n",
    "<p>&nbsp;</p>\n",
    "<p>&nbsp;</p>\n",
    "<p>&nbsp;</p>\n",
    "Let's plot it now."
   ]
  },
  {
   "cell_type": "code",
   "execution_count": null,
   "metadata": {},
   "outputs": [],
   "source": [
    "import matplotlib.pyplot as plt ## matplotlib is a module for plotting in python\n",
    "import numpy as np\n",
    "\n",
    "alpha = 1\n",
    "mu = 0.1 ## What units are these constants?\n",
    "\n",
    "t = np.arange(0,100,.1) ## In array you have the indipendent variable t\n",
    "print(t)"
   ]
  },
  {
   "cell_type": "code",
   "execution_count": null,
   "metadata": {},
   "outputs": [],
   "source": [
    "X = (alpha/mu)*(1.-np.exp(-mu*t))  ## In this array you are going to put your values of X computed with the solution you found.\n",
    "plt.plot(t,X)\n",
    "\n",
    "const = alpha/mu \n",
    "plt.plot([0.,t[-1]], [const, const], '--')\n",
    "\n",
    "plt.ylim(0.,20.)\n",
    "plt.xlim(0.,t[-1])\n",
    "plt.xlabel('t', fontsize = 14)\n",
    "plt.ylabel('X', fontsize = 14)\n",
    "plt.title('Analytical solution')\n",
    "plt.show()"
   ]
  },
  {
   "cell_type": "markdown",
   "metadata": {},
   "source": [
    "- Discuss the *steady state*."
   ]
  },
  {
   "cell_type": "markdown",
   "metadata": {},
   "source": [
    "## Step 2. Numerical solution\n",
    "Numerical solvers solve differential equations in an iterative fashion, starting from the initial conditions. Numerically, the derivative can be approximated using *finite differences*.\n",
    "\n",
    "Let $\\Delta t$ be a very small step, then\n",
    "$$\n",
    "\\mathbf{f}(\\mathbf{x}(t)) \\simeq \\cfrac{\\mathbf{x}(t+\\Delta t) - \\mathbf{x}(t)}{\\Delta t}\n",
    "$$\n",
    "so $\\mathbf{x}(t+\\Delta t) \\simeq \\mathbf{x}(t) + \\mathbf{f}(\\mathbf{x}(t)) \\Delta t$, at the foundations of the Euler method \n",
    "$$\n",
    "\\mathbf{x}_{i+1} = \\mathbf{x}_i + \\mathbf{f}(\\mathbf{x}_i)\\Delta t.\n",
    "$$\n",
    "\n",
    "Let's try to develop this simple integration method."
   ]
  },
  {
   "cell_type": "code",
   "execution_count": null,
   "metadata": {},
   "outputs": [],
   "source": [
    "#function that takes a(alpha), b (mu) and z (x) as inputs\n",
    "def f(a,b,z):\n",
    "    return a - b*z"
   ]
  },
  {
   "cell_type": "code",
   "execution_count": null,
   "metadata": {},
   "outputs": [],
   "source": [
    "delta = 0.01 # definition of Delta t\n",
    "t_max = 100  # Maximal length of integration - final time\n",
    "\n",
    "x_num = []   # We will build here the numerical solution\n",
    "t_num = []   # and here the time steps\n",
    "\n",
    "# Set the initial conditions:\n",
    "time = 0.\n",
    "t_num.append(0.)\n",
    "x_num.append(0.)\n",
    "\n",
    "while (time < t_max):\n",
    "    time += delta\n",
    "    t_num.append(time)\n",
    "    x_prev = x_num[-1]\n",
    "    x_next = x_prev + f(alpha, mu, x_prev)*delta\n",
    "    x_num.append(x_next)"
   ]
  },
  {
   "cell_type": "code",
   "execution_count": null,
   "metadata": {},
   "outputs": [],
   "source": [
    "plt.plot(t_num,x_num, label='numerical')\n",
    "\n",
    "plt.plot([0.,t[-1]], [const, const], '--')\n",
    "\n",
    "plt.plot(t,X, 'gray', label='analytical') \n",
    "\n",
    "\n",
    "plt.ylim(0.,20.)\n",
    "plt.xlim(0.,t[-1])\n",
    "plt.xlabel('t', fontsize = 14)\n",
    "plt.ylabel('X', fontsize = 14)\n",
    "plt.title('Numerical solution')\n",
    "plt.legend()\n",
    "plt.show()"
   ]
  },
  {
   "cell_type": "markdown",
   "metadata": {},
   "source": [
    "---\n",
    "- What could be the problems of this method?\n",
    "- Try to change the $\\Delta t$\n",
    "\n",
    "You should use already developed packages for numerical integrations. For instance:\n",
    "[Scipy integrate](https://docs.scipy.org/doc/scipy/reference/reference/integrate.html)\n",
    "```\n",
    "scipy.integrate.solve_ivp(fun, t_span, y0, method='RK45', t_eval=None, dense_output=False, events=None, vectorized=False, args=None, **options)\n",
    "```"
   ]
  },
  {
   "cell_type": "code",
   "execution_count": null,
   "metadata": {},
   "outputs": [],
   "source": [
    "from scipy.integrate import solve_ivp\n",
    "\n",
    "def func(t, x, a, b): return a - b*x\n",
    "\n",
    "sol = solve_ivp(func, [0, 100], [0.], args=[alpha, mu])\n",
    "#sol = solve_ivp(func, [0, 100], [0.], args=[alpha, mu], t_eval=t)\n",
    "#sol = solve_ivp(func, [0, 100], [0.], args=[alpha, mu], method='LSODA')\n"
   ]
  },
  {
   "cell_type": "code",
   "execution_count": null,
   "metadata": {},
   "outputs": [],
   "source": [
    "sol"
   ]
  },
  {
   "cell_type": "code",
   "execution_count": null,
   "metadata": {},
   "outputs": [],
   "source": [
    "sol.t"
   ]
  },
  {
   "cell_type": "code",
   "execution_count": null,
   "metadata": {},
   "outputs": [],
   "source": [
    "sol.y"
   ]
  },
  {
   "cell_type": "code",
   "execution_count": null,
   "metadata": {},
   "outputs": [],
   "source": [
    "plt.plot(sol.t, sol.y[0], label='solve_ivp')\n",
    "\n",
    "plt.plot([0.,t[-1]], [const, const], '--')\n",
    "\n",
    "plt.plot(t,X, 'gray', label='analytical') \n",
    "\n",
    "\n",
    "plt.ylim(0.,12.)\n",
    "plt.xlim(0.,t[-1])\n",
    "plt.xlabel('t', fontsize = 14)\n",
    "plt.ylabel('X', fontsize = 14)\n",
    "plt.title('Numerical solution from solve_ivp')\n",
    "plt.legend()\n",
    "plt.show()"
   ]
  },
  {
   "cell_type": "markdown",
   "metadata": {},
   "source": [
    "# Enzyme reaction and Michaelis-Menten kinetics\n",
    "Now let's give a look at the system of ODEs you would write to study Enzyme Reaction kinetics, and the Michaelis-Menten approximation.\n",
    "\n",
    "Let's first define the set of ODEs for\n",
    "$$\n",
    "S + E \\rightleftharpoons C \\rightarrow P + E \n",
    "$$\n",
    "with $k_1$ adn $k_2$ the rate constants (forward and backward respectively) for the first step, $k_3$ for the second. Concentrations are indicated with the lower case letters $s,e,c,p$."
   ]
  },
  {
   "cell_type": "code",
   "execution_count": null,
   "metadata": {},
   "outputs": [],
   "source": [
    "def enzymatic_reaction(t, y, k1, k2, k3):\n",
    "    s, e, c, p = y\n",
    "    return [-k1*s*e + k2*c, -k1*s*e + k2*c + k3*c, k1*s*e - k2*c - k3*c, k3*c]"
   ]
  },
  {
   "cell_type": "code",
   "execution_count": null,
   "metadata": {},
   "outputs": [],
   "source": [
    "k1 = 1.\n",
    "k2 = 0.1\n",
    "k3 = 1.\n",
    "\n",
    "e_tot = 1.\n",
    "s0 = 1.\n",
    "\n",
    "sol = solve_ivp(enzymatic_reaction, [0, 10], [s0, e_tot, 0., 0.], args=[k1, k2, k3], method='LSODA')\n"
   ]
  },
  {
   "cell_type": "code",
   "execution_count": null,
   "metadata": {},
   "outputs": [],
   "source": [
    "sol"
   ]
  },
  {
   "cell_type": "code",
   "execution_count": null,
   "metadata": {},
   "outputs": [],
   "source": [
    "plt.plot(sol.t, sol.y[0], label='s')\n",
    "plt.plot(sol.t, sol.y[1], label='e')\n",
    "plt.plot(sol.t, sol.y[2], label='c')\n",
    "plt.plot(sol.t, sol.y[3], label='p')\n",
    "\n",
    "#plt.ylim(0.,12.)\n",
    "plt.xlim(0.,sol.t[-1])\n",
    "plt.xlabel('t [h]', fontsize = 14)\n",
    "plt.ylabel('concentrations [mM]', fontsize = 14)\n",
    "plt.title('Enzyme reaction kinetics')\n",
    "plt.legend()\n",
    "plt.show()"
   ]
  },
  {
   "cell_type": "markdown",
   "metadata": {},
   "source": [
    "Then we can check whether the hypotheses of the Michaelis-Menten (MM) approximation are satisfied in this case or not, and compute $p$ starting from the MM formula:\n",
    "$$\n",
    "\\frac{dp}{dt} = k_3 \\frac{e_\\text{tot}s}{\\frac{k_2}{k_1}+s} \\,.\n",
    "$$"
   ]
  },
  {
   "cell_type": "code",
   "execution_count": null,
   "metadata": {},
   "outputs": [],
   "source": [
    "def mm_product(k1, k2, k3, e_tot, s):\n",
    "    return k3*e_tot*s/(k2/k1+s)"
   ]
  },
  {
   "cell_type": "code",
   "execution_count": null,
   "metadata": {},
   "outputs": [],
   "source": [
    "p_mm = []   # We will build here the numerical solution for the mm\n",
    "\n",
    "# Set the initial conditions:\n",
    "p_mm.append(0.)\n",
    "t_prev = 0.\n",
    "for t, substrate in zip(sol.t, sol.y[0]):\n",
    "    p_prev = p_mm[-1]\n",
    "    delta = t - t_prev\n",
    "    p_next = p_prev + mm_product(k1, k2, k3, e_tot, substrate)*delta\n",
    "    t_prev = t\n",
    "    if delta >0:\n",
    "        #if p_next > 1:\n",
    "        #    p_next = 1\n",
    "        p_mm.append(p_next)\n",
    "        "
   ]
  },
  {
   "cell_type": "code",
   "execution_count": null,
   "metadata": {},
   "outputs": [],
   "source": [
    "plt.plot(sol.t, sol.y[0], label='s')\n",
    "plt.plot(sol.t, sol.y[1], label='e')\n",
    "plt.plot(sol.t, sol.y[2], label='c')\n",
    "plt.plot(sol.t, sol.y[3], label='p')\n",
    "plt.plot(sol.t[10:], (sol.y[0][10:]*sol.y[1][10:]/sol.y[2][10:]), ':', label='es/c')\n",
    "\n",
    "plt.plot(sol.t, p_mm,'b--',label='MM')\n",
    "\n",
    "plt.ylim(0.1,10)\n",
    "plt.semilogy()\n",
    "plt.xlim(0.,sol.t[-1])\n",
    "plt.xlabel('t [h]', fontsize = 14)\n",
    "plt.ylabel('concentrations [mM]', fontsize = 14)\n",
    "plt.title('Enzyme reaction kinetics')\n",
    "plt.legend()\n",
    "plt.show()"
   ]
  },
  {
   "cell_type": "code",
   "execution_count": null,
   "metadata": {},
   "outputs": [],
   "source": []
  }
 ],
 "metadata": {
  "kernelspec": {
   "display_name": "Python 3",
   "language": "python",
   "name": "python3"
  },
  "language_info": {
   "codemirror_mode": {
    "name": "ipython",
    "version": 3
   },
   "file_extension": ".py",
   "mimetype": "text/x-python",
   "name": "python",
   "nbconvert_exporter": "python",
   "pygments_lexer": "ipython3",
   "version": "3.8.1"
  }
 },
 "nbformat": 4,
 "nbformat_minor": 4
}
