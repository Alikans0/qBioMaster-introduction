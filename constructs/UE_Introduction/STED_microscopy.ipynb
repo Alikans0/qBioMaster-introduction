{
 "cells": [
  {
   "cell_type": "markdown",
   "metadata": {},
   "source": [
    "# Stimulated Emission Depletion Microscopy (STED) construct\n",
    "\n",
    "## aims\n",
    "\n",
    "In this tutorial you will \n",
    "1. Read tutorials on STED microscopy\n",
    "2. Answer questionnaire\n",
    "3.  `advanced` Run module to ...\n",
    "4. Further reading\n",
    "\n",
    "## warnings \n",
    "\n",
    "Make sure MPLBACKEND is not defined as `agg` otherwise you will see no graphical output!\n",
    "To make sure of this, run the following command before invoking `jupyter lab`:\n",
    "\n",
    "```sh\n",
    "export MPLBACKEND=\n",
    "```\n",
    "\n",
    "\n",
    "## credits\n",
    "\n",
    "Marcelo Nollmann, June 2021\n"
   ]
  },
  {
   "cell_type": "markdown",
   "metadata": {},
   "source": [
    "### 1- STED microscopy resources\n",
    "\n",
    "In this part, you should read a basic tutorial on STED microscopies. There are standard sources that you can follow for this:\n",
    "\n",
    "- [STED microscopy course by Stephan Hell](https://www.youtube.com/watch?v=w2Qo__sppcI)\n",
    "\n"
   ]
  },
  {
   "cell_type": "markdown",
   "metadata": {},
   "source": [
    "### 2- Questionnaire\n",
    "\n",
    "Plase answer the following questions\n",
    "- \n"
   ]
  },
  {
   "cell_type": "markdown",
   "metadata": {},
   "source": [
    "### 3- `Advanced` ....\n"
   ]
  },
  {
   "cell_type": "code",
   "execution_count": 1,
   "metadata": {},
   "outputs": [],
   "source": [
    "# Load confocal and STED images of diffraction-limited spots\n",
    "\n",
    "\n"
   ]
  },
  {
   "cell_type": "markdown",
   "metadata": {},
   "source": [
    "### 5- More resources\n",
    "\n",
    "Now that you know everything about STED microscopy, you can read on the following resources that will help you understand when and how STED microscopy is used in real life!\n",
    "\n",
    "If you did not do the `Advanced` modules, please choose one of these resouces and read it in detail.\n",
    "\n",
    "- \n",
    "\n"
   ]
  }
 ],
 "metadata": {
  "kernelspec": {
   "display_name": "Python 3",
   "language": "python",
   "name": "python3"
  },
  "language_info": {
   "codemirror_mode": {
    "name": "ipython",
    "version": 3
   },
   "file_extension": ".py",
   "mimetype": "text/x-python",
   "name": "python",
   "nbconvert_exporter": "python",
   "pygments_lexer": "ipython3",
   "version": "3.7.6"
  }
 },
 "nbformat": 4,
 "nbformat_minor": 4
}
