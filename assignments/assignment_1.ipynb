{
 "cells": [
  {
   "cell_type": "markdown",
   "metadata": {},
   "source": [
    "# Assignment 1 - `write your name here`\n",
    "\n",
    "**Modelling growth** - Evaluated: 20% of final mark\n",
    "\n",
    "To be returned before <span style=\"color:red\">Wednesday 6/10 at 23:59</span>.\n",
    "\n",
    "\n",
    "\n",
    "---\n",
    "\n",
    "The *logistic equation*, first derived by François Verhulst in 1838, describes how the size of a population $N(t)$ changes over time. It is one of the simplest models of population growth respecting the fact that unconstrained growth is not sustainable, and it is given by \n",
    "$$\n",
    "\\frac{dN}{dt} = \\lambda N \\left(1- \\frac{N}{K} \\right) \\;, \\tag{1}\n",
    "$$\n",
    "where $N$ is the number of indivuals in the population (for instance the number of cells in a culture)."
   ]
  },
  {
   "cell_type": "markdown",
   "metadata": {},
   "source": [
    "**a) Describe the meaning of the parameters $\\lambda$ and $K$ you find in that equation and give their dimensions/units.**\n",
    "\n",
    "...\n",
    "\n"
   ]
  },
  {
   "cell_type": "markdown",
   "metadata": {},
   "source": [
    "Similar to the equation we studied together in class, the logistic equation has a *production/birth* term $b$ and a *degradataion/death* term $d$. \n",
    "\n",
    "**b) Isolate the two terms**\n",
    "`$b$ = .......`\n",
    "`$d$ = .......`\n"
   ]
  },
  {
   "attachments": {},
   "cell_type": "markdown",
   "metadata": {},
   "source": [
    "**c) Plot $b$ and $d$ as a function of N**. \n",
    "\n",
    "What can you say about the *steady state*? You can also plot the magnitude of the derivative $\\frac{dN}{dt}$ as we did in class to better understand the equation or to guess the solution of this ODE. \n",
    "\n",
    "[*If you do not know how to plot arrows with matplotlib you can draw the figure with another software or by hand and include it in the notebook as in the example below. Be careful. in this case, you should also send the figure file with the .ipynb.*]\n",
    "<img src=\"./data/face.png\" alt=\"figure\" width=\"200\"/>"
   ]
  },
  {
   "cell_type": "markdown",
   "metadata": {},
   "source": [
    "The analytical solution of the logistic equation is\n",
    "$$\n",
    "N(t) = \\frac{KN_0 e^{\\lambda t}}{K + N_0 (e^{\\lambda t}-1)}\\;,\n",
    "$$\n",
    "where $N_0 = N(t=0)$.\n"
   ]
  },
  {
   "cell_type": "markdown",
   "metadata": {},
   "source": [
    "**d) Plot this solution for a couple of values of the parameters, and comment.**\n",
    "\n",
    "...\n",
    "\n",
    "Then chose a value for $\\lambda$ and one for $K$ that you will use in the rest of the assignment. "
   ]
  },
  {
   "cell_type": "markdown",
   "metadata": {},
   "source": [
    "**e) Solve the ODE, Eq.(1), numerically, and compare with the analytical solution.**\n",
    "\n",
    "You can either use the Euleur method or an already developed function (for instance we used `scipy.integrate.solve_ivp()`).\n",
    "\n",
    "\n",
    "..."
   ]
  },
  {
   "cell_type": "markdown",
   "metadata": {},
   "source": [
    "**f) Simulate a trajectory with a stochastic simulation of the system.**\n",
    "\n",
    "..."
   ]
  },
  {
   "cell_type": "markdown",
   "metadata": {},
   "source": [
    "**g) Simulate many trajectories, compute the average behaviour and compare with the analytical solution.**\n",
    "\n",
    "..."
   ]
  },
  {
   "cell_type": "markdown",
   "metadata": {},
   "source": [
    "---\n"
   ]
  },
  {
   "cell_type": "markdown",
   "metadata": {},
   "source": [
    "Now, let's make the things more interesting. \n",
    "\n",
    "Instead of having one population with $N$ individuals, we consider two populations with $n_1(t)$ and $n_2(t)$ individuals, and $N=n_1+n_2$.\n",
    "\n",
    "The populations evolves according to these equations:\n",
    "$$\n",
    "\\frac{dn_1}{dt} = \\lambda_1 n_1 \\left(1- \\frac{n_1 + \\alpha_{12}n_2}{K_1} \\right) \\;\n",
    "$$\n",
    "$$\n",
    "\\frac{dn_2}{dt} = \\lambda_2 n_2 \\left(1- \\frac{n_2 + \\alpha_{21}n_1}{K_2} \\right) \\;\n",
    "$$"
   ]
  },
  {
   "cell_type": "markdown",
   "metadata": {},
   "source": [
    "**h) Explain all the parameters of the equations above (their meaning)**.\n",
    "\n",
    "..."
   ]
  },
  {
   "cell_type": "markdown",
   "metadata": {},
   "source": [
    "**i) Fix $\\alpha_{12} = \\alpha_{21} = 1$, $\\lambda_1 > \\lambda_2$. Numerically solve the system of equation and plot $n_1(t)$ and $n_2(t)$. Consider two cases:  $K_1=K_2$ and $K_1 > K_2$.**\n",
    "\n",
    "..."
   ]
  },
  {
   "cell_type": "markdown",
   "metadata": {},
   "source": [
    "**j) Briefly comment on the results**\n",
    "\n",
    "...\n"
   ]
  },
  {
   "cell_type": "markdown",
   "metadata": {},
   "source": [
    "---\n",
    "## Bonus\n",
    "(If you did everything else and if you want to get extra points...)"
   ]
  },
  {
   "cell_type": "markdown",
   "metadata": {},
   "source": [
    "**k) Plot the nullclines for $n_1$ and $n_2$ (points in the plane $(n_1, n_2)$ in which $dn_1/dt = 0$ or $dn_2/dt = 0$)**\n",
    "\n",
    "..."
   ]
  },
  {
   "cell_type": "markdown",
   "metadata": {},
   "source": [
    "**l) Plot a few solutions (for different initial conditions) of the differencial equation in the phase space $(n_1,n_2)$**\n",
    "\n",
    "..."
   ]
  },
  {
   "cell_type": "code",
   "execution_count": null,
   "metadata": {},
   "outputs": [],
   "source": []
  }
 ],
 "metadata": {
  "kernelspec": {
   "display_name": "Python 3",
   "language": "python",
   "name": "python3"
  },
  "language_info": {
   "codemirror_mode": {
    "name": "ipython",
    "version": 3
   },
   "file_extension": ".py",
   "mimetype": "text/x-python",
   "name": "python",
   "nbconvert_exporter": "python",
   "pygments_lexer": "ipython3",
   "version": "3.8.1"
  }
 },
 "nbformat": 4,
 "nbformat_minor": 4
}
