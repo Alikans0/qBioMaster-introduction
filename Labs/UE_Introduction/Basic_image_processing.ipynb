{
 "cells": [
  {
   "cell_type": "markdown",
   "id": "intellectual-spray",
   "metadata": {},
   "source": [
    "# Basic image processing\n",
    "\n",
    "## aims\n",
    "\n",
    "In this tutorial you will \n",
    "- Load an image from file\n",
    "- \n",
    "\n",
    "## installation\n",
    "\n",
    "You need to make sure you have skimage installed. To install, run:\n",
    "\n",
    "with pip:\n",
    "\n",
    "```\n",
    "pip install scikit-image\n",
    "```\n",
    "\n",
    "or with conda:\n",
    "```\n",
    "conda install scikit-image\n",
    "```\n",
    "\n",
    "## credits\n",
    "\n",
    "Marcelo Nollmann, April 2021\n"
   ]
  },
  {
   "cell_type": "code",
   "execution_count": 1,
   "id": "prepared-liberty",
   "metadata": {},
   "outputs": [],
   "source": [
    "# loads packages\n",
    "\n",
    "from tifffile import imsave\n",
    "from skimage import io\n",
    "import matplotlib.pyplot as plt\n",
    "import numpy as np"
   ]
  },
  {
   "cell_type": "code",
   "execution_count": 2,
   "id": "minute-distinction",
   "metadata": {},
   "outputs": [
    {
     "name": "stdout",
     "output_type": "stream",
     "text": [
      "Number of planes: 60\n"
     ]
    }
   ],
   "source": [
    "# loads image\n",
    "fileName = 'data/Image_sources_3D.tif'\n",
    "data = io.imread(fileName).squeeze()\n",
    "print(\"Number of planes: {}\".format(data.shape[0]))"
   ]
  },
  {
   "cell_type": "code",
   "execution_count": 4,
   "id": "oriental-accreditation",
   "metadata": {},
   "outputs": [],
   "source": [
    "# displays image\n",
    "data_sum = np.sum(data,axis=0)\n",
    "data_plane = data[30,:,:]\n",
    "\n",
    "fig, axes = plt.subplots(1, 2)\n",
    "ax = axes.ravel()\n",
    "fig.set_size_inches((10, 5))\n",
    "        \n",
    "ax[0].imshow(data_sum, cmap='Greys')\n",
    "ax[1].imshow(data_plane, cmap='Greys')\n",
    "\n",
    "subtitles=['sum','plane 30']\n",
    "\n",
    "for axis,subtitle in zip(ax,subtitles):\n",
    "    axis.set_title(subtitle)\n"
   ]
  }
 ],
 "metadata": {
  "kernelspec": {
   "display_name": "Python 3",
   "language": "python",
   "name": "python3"
  },
  "language_info": {
   "codemirror_mode": {
    "name": "ipython",
    "version": 3
   },
   "file_extension": ".py",
   "mimetype": "text/x-python",
   "name": "python",
   "nbconvert_exporter": "python",
   "pygments_lexer": "ipython3",
   "version": "3.7.10"
  }
 },
 "nbformat": 4,
 "nbformat_minor": 5
}
