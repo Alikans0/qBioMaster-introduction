{
 "cells": [
  {
   "cell_type": "markdown",
   "id": "exciting-printing",
   "metadata": {},
   "source": [
    "# Load image tutorial\n",
    "\n",
    "## aims\n",
    "\n",
    "In this tutorial you will \n",
    "- use skimage package to load a TIF image of sources (e.g. single molecules, stars) in three dimensions. \n",
    "- produce a sum and grab a single plane\n",
    "- produce a plot with these two images \n",
    "- save the result in TIF format.\n",
    "\n",
    "## installation\n",
    "\n",
    "You need to make sure you have skimage installed. To install, run:\n",
    "\n",
    "with pip:\n",
    "\n",
    "```\n",
    "pip install scikit-image\n",
    "```\n",
    "\n",
    "or with conda:\n",
    "```\n",
    "conda install scikit-image\n",
    "```\n",
    "\n",
    "\n",
    "## credits\n",
    "\n",
    "Marcelo Nollmann, April 2021\n"
   ]
  },
  {
   "cell_type": "code",
   "execution_count": 3,
   "id": "collectible-suffering",
   "metadata": {},
   "outputs": [],
   "source": [
    "# loads packages\n",
    "\n",
    "from tifffile import imsave\n",
    "from skimage import io\n",
    "import matplotlib.pyplot as plt\n",
    "import numpy as np"
   ]
  },
  {
   "cell_type": "code",
   "execution_count": 4,
   "id": "complimentary-assault",
   "metadata": {},
   "outputs": [
    {
     "name": "stdout",
     "output_type": "stream",
     "text": [
      "Number of planes: 60\n"
     ]
    }
   ],
   "source": [
    "# loads image\n",
    "fileName = 'data/Image_sources_3D.tif'\n",
    "data = io.imread(fileName).squeeze()\n",
    "print(\"Number of planes: {}\".format(data.shape[0]))"
   ]
  },
  {
   "cell_type": "code",
   "execution_count": 5,
   "id": "obvious-knife",
   "metadata": {},
   "outputs": [],
   "source": [
    "# displays image\n",
    "data_sum = np.sum(data,axis=0)\n",
    "data_plane = data[30,:,:]\n",
    "\n",
    "fig, axes = plt.subplots(1, 2)\n",
    "ax = axes.ravel()\n",
    "fig.set_size_inches((10, 5))\n",
    "        \n",
    "ax[0].imshow(data_sum, cmap='Greys')\n",
    "ax[1].imshow(data_plane, cmap='Greys')\n",
    "\n",
    "subtitles=['sum','plane 30']\n",
    "\n",
    "for axis,subtitle in zip(ax,subtitles):\n",
    "    axis.set_title(subtitle)\n"
   ]
  },
  {
   "cell_type": "code",
   "execution_count": 22,
   "id": "medical-substance",
   "metadata": {},
   "outputs": [],
   "source": [
    "# save output image\n",
    "outputFile = 'data/output.tif'\n",
    "imsave(outputFile, data_sum)\n"
   ]
  }
 ],
 "metadata": {
  "kernelspec": {
   "display_name": "Python 3",
   "language": "python",
   "name": "python3"
  },
  "language_info": {
   "codemirror_mode": {
    "name": "ipython",
    "version": 3
   },
   "file_extension": ".py",
   "mimetype": "text/x-python",
   "name": "python",
   "nbconvert_exporter": "python",
   "pygments_lexer": "ipython3",
   "version": "3.7.10"
  }
 },
 "nbformat": 4,
 "nbformat_minor": 5
}
